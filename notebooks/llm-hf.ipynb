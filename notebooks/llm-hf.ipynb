{
 "cells": [
  {
   "cell_type": "code",
   "execution_count": 1,
   "metadata": {},
   "outputs": [],
   "source": [
    "# https://python.langchain.com/docs/integrations/llms/huggingface_pipelines\n",
    "! pip install transformers --quiet"
   ]
  },
  {
   "cell_type": "code",
   "execution_count": 2,
   "metadata": {},
   "outputs": [
    {
     "name": "stderr",
     "output_type": "stream",
     "text": [
      "/home/codespace/.local/lib/python3.10/site-packages/tqdm/auto.py:22: TqdmWarning: IProgress not found. Please update jupyter and ipywidgets. See https://ipywidgets.readthedocs.io/en/stable/user_install.html\n",
      "  from .autonotebook import tqdm as notebook_tqdm\n",
      "/home/codespace/.python/current/lib/python3.10/site-packages/transformers/generation/configuration_utils.py:362: UserWarning: `do_sample` is set to `False`. However, `temperature` is set to `0` -- this flag is only used in sample-based generation modes. You should set `do_sample=True` or unset `temperature`. This was detected when initializing the generation config instance, which means the corresponding file may hold incorrect parameterization and should be fixed.\n",
      "  warnings.warn(\n"
     ]
    }
   ],
   "source": [
    "from langchain.llms import HuggingFacePipeline\n",
    "\n",
    "llm = HuggingFacePipeline.from_model_id(\n",
    "    model_id=\"bigscience/bloom-1b7\",\n",
    "    # model_id=\"meta-llama/Llama-2-7b-chat-hf\", # OSError: You are trying to access a gated repo.\n",
    "    task=\"text-generation\",\n",
    "    model_kwargs={\"temperature\": 0, \"max_length\": 1000},\n",
    ")"
   ]
  },
  {
   "cell_type": "code",
   "execution_count": 3,
   "metadata": {},
   "outputs": [
    {
     "name": "stderr",
     "output_type": "stream",
     "text": [
      "/home/codespace/.python/current/lib/python3.10/site-packages/transformers/generation/configuration_utils.py:362: UserWarning: `do_sample` is set to `False`. However, `temperature` is set to `0` -- this flag is only used in sample-based generation modes. You should set `do_sample=True` or unset `temperature`.\n",
      "  warnings.warn(\n"
     ]
    },
    {
     "name": "stdout",
     "output_type": "stream",
     "text": [
      " First, we need to understand what is an electroencephalogram. An electroencephalogram is a recording of brain activity. It is a recording of brain activity that is made by placing electrodes on the scalp. The electrodes are placed in a way that they are connected to the brain. The electrodes are connected to the brain by wires. The wires are connected to the electrodes by a cable. The cable is connected to a computer. The computer is connected to a monitor. The monitor is connected to a television. The television is connected to a radio. The radio is connected to a speaker. The speaker is connected to a microphone. The microphone is connected to a receiver. The receiver is connected to a computer. The computer is connected to a monitor. The monitor is connected to a television. The television is connected to a radio. The radio is connected to a speaker. The speaker is connected to a microphone. The microphone is connected to a receiver. The receiver is connected to a computer. The computer is connected to a monitor. The monitor is connected to a television. The television is connected to a radio. The radio is connected to a speaker. The speaker is connected to a microphone. The microphone is connected to a receiver. The receiver is connected to a computer. The computer is connected to a monitor. The monitor is connected to a television. The television is connected to a radio. The radio is connected to a speaker. The speaker is connected to a microphone. The microphone is connected to a receiver. The receiver is connected to a computer. The computer is connected to a monitor. The monitor is connected to a television. The television is connected to a radio. The radio is connected to a speaker. The speaker is connected to a microphone. The microphone is connected to a receiver. The receiver is connected to a computer. The computer is connected to a monitor. The monitor is connected to a television. The television is connected to a radio. The radio is connected to a speaker. The speaker is connected to a microphone. The microphone is connected to a receiver. The receiver is connected to a computer. The computer is connected to a monitor. The monitor is connected to a television. The television is connected to a radio. The radio is connected to a speaker. The speaker is connected to a microphone. The microphone is connected to a receiver. The receiver is connected to a computer. The computer is connected to a monitor. The monitor is connected to a television. The television is connected to a radio. The radio is connected to a speaker. The speaker is connected to a microphone. The microphone is connected to a receiver. The receiver is connected to a computer. The computer is connected to a monitor. The monitor is connected to a television. The television is connected to a radio. The radio is connected to a speaker. The speaker is connected to a microphone. The microphone is connected to a receiver. The receiver is connected to a computer. The computer is connected to a monitor. The monitor is connected to a television. The television is connected to a radio. The radio is connected to a speaker. The speaker is connected to a microphone. The microphone is connected to a receiver. The receiver is connected to a computer. The computer is connected to a monitor. The monitor is connected to a television. The television is connected to a radio. The radio is connected to a speaker. The speaker is connected to a microphone. The microphone is connected to a receiver. The receiver is connected to a computer. The computer is connected to a monitor. The monitor is connected to a television. The television is connected to a radio. The radio is connected to a speaker. The speaker is connected to a microphone. The microphone is connected to a receiver. The receiver is connected to a computer. The computer is connected to a monitor. The monitor is connected to a television. The television is connected to a radio. The radio is connected to a speaker. The speaker is connected to a microphone. The microphone is connected to a receiver. The receiver is connected to a computer. The computer is connected to a monitor. The monitor is connected to a television. The television is connected to a radio. The radio is connected to a speaker. The speaker is connected to a microphone. The microphone is connected to a receiver. The receiver is connected to a computer. The computer is connected to a monitor. The monitor is connected to a television. The television is connected to a radio. The radio is connected to a speaker. The speaker is connected to a microphone. The microphone is connected to a receiver. The receiver is connected to a computer. The computer is connected to a monitor. The monitor is connected to a television. The television is connected to a radio. The radio is connected to a speaker. The speaker is connected to a microphone. The microphone is connected to a receiver. The receiver is connected to a computer.\n"
     ]
    }
   ],
   "source": [
    "from langchain.prompts import PromptTemplate\n",
    "\n",
    "template = \"\"\"Question: {question}\n",
    "\n",
    "Answer: Let's think step by step.\"\"\"\n",
    "prompt = PromptTemplate.from_template(template)\n",
    "\n",
    "chain = prompt | llm\n",
    "\n",
    "question = \"What is electroencephalography?\"\n",
    "\n",
    "print(chain.invoke({\"question\": question}))"
   ]
  },
  {
   "cell_type": "code",
   "execution_count": 4,
   "metadata": {},
   "outputs": [],
   "source": [
    "import pandas as pd"
   ]
  },
  {
   "cell_type": "code",
   "execution_count": 5,
   "metadata": {},
   "outputs": [
    {
     "data": {
      "text/plain": [
       "'Body temperature 37.1 Cel, Body Height 162.5 cm, Pain severity - 0-10 verbal numeric rating [Score] - Reported 3.0 {score}, Body Weight 77.4 kg, Body Mass Index 29.3 kg/m2, Diastolic Blood Pressure 87.0 mm[Hg], Systolic Blood Pressure 127.0 mm[Hg], Heart rate 70.0 /min, Respiratory rate 13.0 /min, Total Cholesterol 174.1 mg/dL, Triglycerides 101.8 mg/dL, Low Density Lipoprotein Cholesterol 86.9 mg/dL, High Density Lipoprotein Cholesterol 66.9 mg/dL, Leukocytes [#/volume] in Blood by Automated count 4.6 10*3/uL, Erythrocytes [#/volume] in Blood by Automated count 4.2 10*6/uL, Hemoglobin [Mass/volume] in Blood 12.3 g/dL, Hematocrit [Volume Fraction] of Blood by Automated count 45.0 %, MCV [Entitic volume] by Automated count 86.3 fL, MCH [Entitic mass] by Automated count 32.4 pg, MCHC [Mass/volume] by Automated count 33.9 g/dL, Erythrocyte distribution width [Entitic volume] by Automated count 45.7 fL, Platelets [#/volume] in Blood by Automated count 259.0 10*3/uL, Platelet distribution width [Entitic volume] in Blood by Automated count 440.7 fL, Platelet mean volume [Entitic volume] in Blood by Automated count 12.1 fL'"
      ]
     },
     "execution_count": 5,
     "metadata": {},
     "output_type": "execute_result"
    }
   ],
   "source": [
    "df = pd.read_csv(\"csv/observations.csv\")\n",
    "observations = \", \".join([\" \".join(el) for el in df[df.PATIENT==df.PATIENT.unique()[1]][[\"DESCRIPTION\", \"VALUE\", \"UNITS\"]][:30].values[:24]])\n",
    "observations"
   ]
  },
  {
   "cell_type": "code",
   "execution_count": 6,
   "metadata": {},
   "outputs": [
    {
     "name": "stderr",
     "output_type": "stream",
     "text": [
      "/home/codespace/.python/current/lib/python3.10/site-packages/transformers/generation/configuration_utils.py:362: UserWarning: `do_sample` is set to `False`. However, `temperature` is set to `0` -- this flag is only used in sample-based generation modes. You should set `do_sample=True` or unset `temperature`. This was detected when initializing the generation config instance, which means the corresponding file may hold incorrect parameterization and should be fixed.\n",
      "  warnings.warn(\n",
      "/home/codespace/.python/current/lib/python3.10/site-packages/transformers/generation/configuration_utils.py:362: UserWarning: `do_sample` is set to `False`. However, `temperature` is set to `0` -- this flag is only used in sample-based generation modes. You should set `do_sample=True` or unset `temperature`.\n",
      "  warnings.warn(\n"
     ]
    },
    {
     "name": "stdout",
     "output_type": "stream",
     "text": [
      " Body temperature 37.1 Cel, Body Height 162.5 cm, Pain severity - 0-10 verbal numeric rating [Score] - Reported 3.0 {score}, Body Weight 77.4 kg, Body Mass Index 29.3 kg/m2, Diastolic Blood Pressure 87.0 mm[Hg], Systolic Blood Pressure 127.0 mm[Hg], Heart rate 70.0 /min, Respiratory rate 13.0 /min, Total Cholesterol 174.1 mg/dL, Triglycerides 101.8 mg/dL, Low Density Lipoprotein Cholesterol 86.9 mg/dL, High Density Lipoprotein Cholesterol 66.9 mg/dL, Leukocytes [#/volume] in Blood by Automated count 4.6 10*3/uL, Erythrocytes [#/volume] in Blood by Automated count 4.2 10*6/uL, Hemoglobin [Mass/volume] in Blood 12.3 g/dL, Hematocrit [Volume Fraction] of Blood by Automated count 45.0 %, MCV [Entitic volume] by Automated count 86.3 fL, MCH [Entitic mass] by Automated count 32.4 pg, MCHC [Mass/volume] by Automated count 33.9 g/dL, Erythrocyte distribution width [Entitic volume] by Automated count 45.7 fL, Platelets [#/volume] in Blood by Automated count 259.0 10*3/uL, Platelet distribution width [Entitic volume] in Blood by Automated count 440.7 fL, Platelet mean volume [Entitic volume] in Blood by Automated count 12.1 fL\n",
      "\n",
      "The following measurements are out of normal range:  Body temperature 37.1 Cel, Body Height 162.5 cm, Pain severity - 0-10 verbal numeric rating [Score] - Reported 3.0 {score}, Body Weight 77.4 kg, Body Mass Index 29.3 kg/m2, Diastolic Blood Pressure 87.0 mm[Hg], Systolic Blood Pressure 127.0 mm[Hg], Heart rate 70.0 /min, Respiratory rate 13.0 /min, Total Cholesterol 174.1 mg/dL, Triglycerides 101.8 mg/dL, Low Density Lipoprotein Cholesterol 86.9 mg/dL, High Density Lipoprotein Cholesterol 66.9 mg/dL, Leukocytes [#/volume] in Blood by Automated count 4.6 10*3/uL, Erythrocytes [#/volume] in Blood by Automated count 4.2 10*6/uL, Hemoglobin [Mass/volume] in Blood 12.3 g/dL, Hematocrit [Volume Fraction] of Blood by Automated count 45.0 %\n"
     ]
    }
   ],
   "source": [
    "template = \"\"\"A patient has the following list of measurements: {observations}\n",
    "\n",
    "The following measurements are out of normal range: \"\"\"\n",
    "\n",
    "prompt = PromptTemplate(template=template, input_variables=[\"observations\"])\n",
    "\n",
    "chain = prompt | llm\n",
    "\n",
    "print(chain.invoke({\"observations\": observations}))"
   ]
  }
 ],
 "metadata": {
  "kernelspec": {
   "display_name": "Python 3",
   "language": "python",
   "name": "python3"
  },
  "language_info": {
   "codemirror_mode": {
    "name": "ipython",
    "version": 3
   },
   "file_extension": ".py",
   "mimetype": "text/x-python",
   "name": "python",
   "nbconvert_exporter": "python",
   "pygments_lexer": "ipython3",
   "version": "3.10.8"
  },
  "orig_nbformat": 4
 },
 "nbformat": 4,
 "nbformat_minor": 2
}
