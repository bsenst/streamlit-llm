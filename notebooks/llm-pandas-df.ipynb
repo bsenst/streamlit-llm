{
 "cells": [
  {
   "cell_type": "code",
   "execution_count": 2,
   "metadata": {},
   "outputs": [],
   "source": [
    "# https://zhijingeu.medium.com/building-a-natural-language-enabled-pandas-dataframe-agent-with-langchain-openai-f23ac12180df\n",
    "import pandas as pd\n",
    "\n",
    "from langchain.llms import Clarifai\n",
    "from langchain.agents import create_pandas_dataframe_agent"
   ]
  },
  {
   "cell_type": "code",
   "execution_count": 3,
   "metadata": {},
   "outputs": [
    {
     "data": {
      "text/plain": [
       "(299697, 8)"
      ]
     },
     "execution_count": 3,
     "metadata": {},
     "output_type": "execute_result"
    }
   ],
   "source": [
    "observations = pd.read_csv(\"csv/observations.csv\")\n",
    "observations.shape"
   ]
  },
  {
   "cell_type": "markdown",
   "metadata": {},
   "source": [
    "# Preprocessing"
   ]
  },
  {
   "cell_type": "code",
   "execution_count": 4,
   "metadata": {},
   "outputs": [
    {
     "name": "stdout",
     "output_type": "stream",
     "text": [
      "<class 'pandas.core.frame.DataFrame'>\n",
      "RangeIndex: 299697 entries, 0 to 299696\n",
      "Data columns (total 8 columns):\n",
      " #   Column       Non-Null Count   Dtype \n",
      "---  ------       --------------   ----- \n",
      " 0   DATE         299697 non-null  object\n",
      " 1   PATIENT      299697 non-null  object\n",
      " 2   ENCOUNTER    269334 non-null  object\n",
      " 3   CODE         299697 non-null  object\n",
      " 4   DESCRIPTION  299697 non-null  object\n",
      " 5   VALUE        299697 non-null  object\n",
      " 6   UNITS        286962 non-null  object\n",
      " 7   TYPE         299697 non-null  object\n",
      "dtypes: object(8)\n",
      "memory usage: 18.3+ MB\n"
     ]
    }
   ],
   "source": [
    "observations.info()"
   ]
  },
  {
   "cell_type": "code",
   "execution_count": 29,
   "metadata": {},
   "outputs": [
    {
     "name": "stdout",
     "output_type": "stream",
     "text": [
      "<class 'pandas.core.frame.DataFrame'>\n",
      "Int64Index: 119302 entries, 0 to 299665\n",
      "Data columns (total 8 columns):\n",
      " #   Column       Non-Null Count   Dtype              \n",
      "---  ------       --------------   -----              \n",
      " 0   DATE         119302 non-null  datetime64[ns, UTC]\n",
      " 1   PATIENT      119302 non-null  object             \n",
      " 2   ENCOUNTER    119302 non-null  object             \n",
      " 3   CODE         119302 non-null  object             \n",
      " 4   DESCRIPTION  119302 non-null  object             \n",
      " 5   VALUE        119302 non-null  float64            \n",
      " 6   UNITS        119302 non-null  object             \n",
      " 7   TYPE         119302 non-null  object             \n",
      "dtypes: datetime64[ns, UTC](1), float64(1), object(6)\n",
      "memory usage: 8.2+ MB\n"
     ]
    }
   ],
   "source": [
    "observations = observations[observations.TYPE==\"numeric\"]\n",
    "observations = observations[observations.UNITS!=\"{score}\"]\n",
    "observations = observations[~observations.DESCRIPTION.isin([\"DALY\", \"QALY\"])]\n",
    "observations[\"VALUE\"] = observations[\"VALUE\"].astype(float)\n",
    "observations[\"DATE\"] = pd.to_datetime(observations.DATE)\n",
    "observations.info()"
   ]
  },
  {
   "cell_type": "code",
   "execution_count": 26,
   "metadata": {},
   "outputs": [
    {
     "data": {
      "text/plain": [
       "<Axes: >"
      ]
     },
     "execution_count": 26,
     "metadata": {},
     "output_type": "execute_result"
    },
    {
     "data": {
      "image/png": "[encoded data removed]",
      "text/plain": [
       "<Figure size 640x480 with 1 Axes>"
      ]
     },
     "metadata": {},
     "output_type": "display_data"
    }
   ],
   "source": [
    "tmp = observations.PATIENT.value_counts()\n",
    "tmp[tmp<300].hist(bins=100)"
   ]
  },
  {
   "cell_type": "code",
   "execution_count": 30,
   "metadata": {},
   "outputs": [
    {
     "data": {
      "text/plain": [
       "(119302, 8)"
      ]
     },
     "execution_count": 30,
     "metadata": {},
     "output_type": "execute_result"
    }
   ],
   "source": [
    "observations = observations[observations.PATIENT.isin(tmp[tmp<300].index)]\n",
    "observations.shape"
   ]
  },
  {
   "cell_type": "code",
   "execution_count": 35,
   "metadata": {},
   "outputs": [
    {
     "data": {
      "text/plain": [
       "2018-01-29    22\n",
       "2012-01-23    18\n",
       "2015-01-26    11\n",
       "2017-01-09     7\n",
       "Name: DATE, dtype: int64"
      ]
     },
     "execution_count": 35,
     "metadata": {},
     "output_type": "execute_result"
    }
   ],
   "source": [
    "observations[observations.PATIENT==observations.PATIENT.unique()[0]].DATE.dt.strftime('%Y-%m-%d').value_counts()"
   ]
  },
  {
   "cell_type": "code",
   "execution_count": 36,
   "metadata": {},
   "outputs": [],
   "source": [
    "observations[\"DATE\"] = observations.DATE.dt.strftime('%Y-%m-%d')"
   ]
  },
  {
   "cell_type": "code",
   "execution_count": 39,
   "metadata": {},
   "outputs": [],
   "source": [
    "tmp = [observations[observations.PATIENT==pat].DATE.value_counts().values for pat in observations.PATIENT.unique()]"
   ]
  },
  {
   "cell_type": "code",
   "execution_count": 41,
   "metadata": {},
   "outputs": [
    {
     "data": {
      "text/plain": [
       "(1009, 1009)"
      ]
     },
     "execution_count": 41,
     "metadata": {},
     "output_type": "execute_result"
    }
   ],
   "source": [
    "len(tmp), observations.PATIENT.nunique()"
   ]
  },
  {
   "cell_type": "code",
   "execution_count": 42,
   "metadata": {},
   "outputs": [
    {
     "data": {
      "text/plain": [
       "count    1009.000000\n",
       "mean       10.601586\n",
       "std         4.359336\n",
       "min         2.000000\n",
       "25%         8.000000\n",
       "50%        11.000000\n",
       "75%        13.000000\n",
       "max        61.000000\n",
       "dtype: float64"
      ]
     },
     "execution_count": 42,
     "metadata": {},
     "output_type": "execute_result"
    }
   ],
   "source": [
    "pd.Series([len(pat) for pat in tmp]).describe()"
   ]
  },
  {
   "cell_type": "code",
   "execution_count": 43,
   "metadata": {},
   "outputs": [
    {
     "data": {
      "text/plain": [
       "0       034e9e3b-2def-4559-bb2a-7850888ae060\n",
       "1       8d4c4326-e9de-4f45-9a4c-f8c36bff89ae\n",
       "2       10339b10-3cd1-4ac3-ac13-ec26728cb592\n",
       "3       1d604da9-9a81-4ba9-80c2-de3375d59b40\n",
       "4       f5dcd418-09fe-4a2f-baa0-3da800bd8c3a\n",
       "                        ...                 \n",
       "1004    09867b02-24b8-4896-b38b-86782dd64ef1\n",
       "1005    1fc8dafd-90e5-44d6-9179-81156c0ea083\n",
       "1006    6d048a56-edb8-4f29-891d-7a84d75a8e78\n",
       "1007    fca3178e-fb68-41c3-8598-702d3ca68b96\n",
       "1008    fc817953-cc8b-45db-9c85-7c0ced8fa90d\n",
       "Length: 990, dtype: object"
      ]
     },
     "execution_count": 43,
     "metadata": {},
     "output_type": "execute_result"
    }
   ],
   "source": [
    "pd.Series(observations.PATIENT.unique())[[len(pat)<20 for pat in tmp]]"
   ]
  },
  {
   "cell_type": "code",
   "execution_count": 44,
   "metadata": {},
   "outputs": [
    {
     "data": {
      "text/plain": [
       "(115917, 8)"
      ]
     },
     "execution_count": 44,
     "metadata": {},
     "output_type": "execute_result"
    }
   ],
   "source": [
    "observations = observations[observations.PATIENT.isin(pd.Series(observations.PATIENT.unique())[[len(pat)<20 for pat in tmp]])]\n",
    "observations.shape"
   ]
  },
  {
   "cell_type": "code",
   "execution_count": 47,
   "metadata": {},
   "outputs": [],
   "source": [
    "observations = observations[[\"DATE\", \"PATIENT\", \"DESCRIPTION\", \"VALUE\", \"UNITS\"]]\n",
    "observations.to_csv(\"csv/observations_processed.csv\", index=False)"
   ]
  },
  {
   "cell_type": "code",
   "execution_count": 52,
   "metadata": {},
   "outputs": [
    {
     "data": {
      "text/html": [
       "<div>\n",
       "<style scoped>\n",
       "    .dataframe tbody tr th:only-of-type {\n",
       "        vertical-align: middle;\n",
       "    }\n",
       "\n",
       "    .dataframe tbody tr th {\n",
       "        vertical-align: top;\n",
       "    }\n",
       "\n",
       "    .dataframe thead th {\n",
       "        text-align: right;\n",
       "    }\n",
       "</style>\n",
       "<table border=\"1\" class=\"dataframe\">\n",
       "  <thead>\n",
       "    <tr style=\"text-align: right;\">\n",
       "      <th></th>\n",
       "      <th>PATIENT</th>\n",
       "      <th>DATE</th>\n",
       "      <th>RESPONSE</th>\n",
       "    </tr>\n",
       "  </thead>\n",
       "  <tbody>\n",
       "    <tr>\n",
       "      <th>0</th>\n",
       "      <td>034e9e3b-2def-4559-bb2a-7850888ae060</td>\n",
       "      <td>2012-01-23</td>\n",
       "      <td>Based on the provided observations, here is an...</td>\n",
       "    </tr>\n",
       "    <tr>\n",
       "      <th>1</th>\n",
       "      <td>034e9e3b-2def-4559-bb2a-7850888ae060</td>\n",
       "      <td>2015-01-26</td>\n",
       "      <td>Based on the provided observations, here are t...</td>\n",
       "    </tr>\n",
       "    <tr>\n",
       "      <th>2</th>\n",
       "      <td>034e9e3b-2def-4559-bb2a-7850888ae060</td>\n",
       "      <td>2017-01-09</td>\n",
       "      <td>Based on the provided observations, here are t...</td>\n",
       "    </tr>\n",
       "    <tr>\n",
       "      <th>3</th>\n",
       "      <td>034e9e3b-2def-4559-bb2a-7850888ae060</td>\n",
       "      <td>2018-01-29</td>\n",
       "      <td>Based on the provided observations, here are s...</td>\n",
       "    </tr>\n",
       "    <tr>\n",
       "      <th>4</th>\n",
       "      <td>8d4c4326-e9de-4f45-9a4c-f8c36bff89ae</td>\n",
       "      <td>2011-11-17</td>\n",
       "      <td>Based on the provided observation, here is the...</td>\n",
       "    </tr>\n",
       "  </tbody>\n",
       "</table>\n",
       "</div>"
      ],
      "text/plain": [
       "                                PATIENT        DATE  \\\n",
       "0  034e9e3b-2def-4559-bb2a-7850888ae060  2012-01-23   \n",
       "1  034e9e3b-2def-4559-bb2a-7850888ae060  2015-01-26   \n",
       "2  034e9e3b-2def-4559-bb2a-7850888ae060  2017-01-09   \n",
       "3  034e9e3b-2def-4559-bb2a-7850888ae060  2018-01-29   \n",
       "4  8d4c4326-e9de-4f45-9a4c-f8c36bff89ae  2011-11-17   \n",
       "\n",
       "                                            RESPONSE  \n",
       "0  Based on the provided observations, here is an...  \n",
       "1  Based on the provided observations, here are t...  \n",
       "2  Based on the provided observations, here are t...  \n",
       "3  Based on the provided observations, here are s...  \n",
       "4  Based on the provided observation, here is the...  "
      ]
     },
     "execution_count": 52,
     "metadata": {},
     "output_type": "execute_result"
    }
   ],
   "source": [
    "responses = pd.read_csv(\"csv/observations_responses.csv\", sep=\"#\")\n",
    "responses.head()"
   ]
  },
  {
   "cell_type": "code",
   "execution_count": 56,
   "metadata": {},
   "outputs": [
    {
     "name": "stdout",
     "output_type": "stream",
     "text": [
      "Based on the provided observations, here are some findings:\n",
      "**Abnormal Values:** 1. Diastolic Blood Pressure: 85 mm[Hg] (Normal range: <80 mm[Hg]) 2. Total Cholesterol: 165.5 mg/dL (Borderline high, normal range: <200 mg/dL) 3. Triglycerides: 113.3 mg/dL (Borderline high, normal range: <150 mg/dL) 4. Low Density Lipoprotein Cholesterol: 80.7 mg/dL (Borderline high, normal range: <100 mg/dL) 5. High Density Lipoprotein Cholesterol: 62.2 mg/dL (Normal range: >40 mg/dL for males, >50 mg/dL for females)\n",
      "**Possible Diagnoses:** 1. Borderline High Blood Pressure (Isolated diastolic hypertension). 2. Borderline High Cholesterol levels.\n",
      "**Further Workup Recommendations:** 1. **Blood Pressure Management:** Monitor blood pressure regularly. Lifestyle modifications like a heart-healthy diet, regular exercise, and stress management techniques can help. If blood pressure remains elevated, medication may be considered.\n",
      "2. **Lipid Profile:** Consider a complete lipid profile including LDL particle size, HDL subclass analysis, and non-HDL cholesterol. This provides a more detailed understanding of cholesterol levels.\n",
      "3. **Cardiovascular Risk Assessment:** Assess the patient's overall cardiovascular risk profile, including family history, smoking status, and presence of any other risk factors.\n",
      "4. **Diet and Lifestyle Modification:** Consider consultation with a registered dietitian to develop a personalized nutrition and exercise plan.\n",
      "5. **Follow-Up:** Regular follow-up appointments to monitor progress and adjust treatment plans as needed.\n",
      "6. **Other Screening Tests:** Depending on the patient's medical history, consider additional tests such as fasting blood glucose, thyroid function tests, and liver function tests.\n",
      "7. **Referral to a Specialist:** Depending on the patient's overall health and specific risk factors, consider a referral to a cardiologist or an endocrinologist for further evaluation and management.\n",
      "Remember, these recommendations are based on the provided data and should be validated by a licensed healthcare professional after a thorough examination and assessment of the patient's complete medical history.\n"
     ]
    }
   ],
   "source": [
    "print(responses.RESPONSE[3].replace(\"  \", \"\\n\"))"
   ]
  },
  {
   "cell_type": "code",
   "execution_count": 60,
   "metadata": {},
   "outputs": [
    {
     "data": {
      "text/plain": [
       "7"
      ]
     },
     "execution_count": 60,
     "metadata": {},
     "output_type": "execute_result"
    }
   ],
   "source": [
    "int(responses.RESPONSE[3].split(\"Recommendations:** \")[-1].count(\"**\")/2)"
   ]
  },
  {
   "cell_type": "markdown",
   "metadata": {},
   "source": [
    "# LLM"
   ]
  },
  {
   "cell_type": "code",
   "execution_count": 6,
   "metadata": {},
   "outputs": [],
   "source": [
    "CLARIFAI_PAT=\"\""
   ]
  },
  {
   "cell_type": "code",
   "execution_count": 7,
   "metadata": {},
   "outputs": [],
   "source": [
    "# https://python.langchain.com/docs/integrations/llms/clarifai\n",
    "clarifai_llm = Clarifai(\n",
    "    pat=CLARIFAI_PAT, user_id='openai', app_id='chat-completion', model_id='GPT-3_5-turbo'\n",
    ")"
   ]
  },
  {
   "cell_type": "code",
   "execution_count": 8,
   "metadata": {},
   "outputs": [],
   "source": [
    "agent = create_pandas_dataframe_agent(\n",
    "    clarifai_llm,\n",
    "    observations,\n",
    "    verbose=True\n",
    ")"
   ]
  },
  {
   "cell_type": "code",
   "execution_count": 15,
   "metadata": {},
   "outputs": [
    {
     "name": "stdout",
     "output_type": "stream",
     "text": [
      "\n",
      "\n",
      "\u001b[1m> Entering new AgentExecutor chain...\u001b[0m\n"
     ]
    },
    {
     "name": "stdout",
     "output_type": "stream",
     "text": [
      "\u001b[32;1m\u001b[1;3mThought: I need to count the number of unique patient identifiers in the dataframe.\n",
      "Action: Use the `nunique()` function on the 'PATIENT' column of the dataframe.\n",
      "Action Input: `df['PATIENT'].nunique()`\u001b[0m\n",
      "Observation: Use the `nunique()` function on the 'PATIENT' column of the dataframe. is not a valid tool, try one of [python_repl_ast].\n",
      "Thought:\u001b[32;1m\u001b[1;3mI need to use the Python shell to execute the command.\n",
      "Action: python_repl_ast\n",
      "Action Input: `df['PATIENT'].nunique()`\u001b[0m\n",
      "Observation: \u001b[36;1m\u001b[1;3m1171\u001b[0m\n",
      "Thought:\u001b[32;1m\u001b[1;3mThere are 1171 unique patients in the dataset.\n",
      "Final Answer: 1171\u001b[0m\n",
      "\n",
      "\u001b[1m> Finished chain.\u001b[0m\n"
     ]
    },
    {
     "data": {
      "text/plain": [
       "'1171'"
      ]
     },
     "execution_count": 15,
     "metadata": {},
     "output_type": "execute_result"
    }
   ],
   "source": [
    "agent.run(\"How many patients does the dataset include?\")"
   ]
  }
 ],
 "metadata": {
  "kernelspec": {
   "display_name": "Python 3",
   "language": "python",
   "name": "python3"
  },
  "language_info": {
   "codemirror_mode": {
    "name": "ipython",
    "version": 3
   },
   "file_extension": ".py",
   "mimetype": "text/x-python",
   "name": "python",
   "nbconvert_exporter": "python",
   "pygments_lexer": "ipython3",
   "version": "3.10.12"
  },
  "orig_nbformat": 4
 },
 "nbformat": 4,
 "nbformat_minor": 2
}
