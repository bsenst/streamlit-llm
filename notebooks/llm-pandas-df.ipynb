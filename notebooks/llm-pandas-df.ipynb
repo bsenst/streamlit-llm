{
 "cells": [
  {
   "cell_type": "code",
   "execution_count": 1,
   "metadata": {},
   "outputs": [],
   "source": [
    "# https://zhijingeu.medium.com/building-a-natural-language-enabled-pandas-dataframe-agent-with-langchain-openai-f23ac12180df\n",
    "import pandas as pd\n",
    "\n",
    "from langchain.llms import Clarifai\n",
    "from langchain.agents import create_pandas_dataframe_agent"
   ]
  },
  {
   "cell_type": "code",
   "execution_count": 2,
   "metadata": {},
   "outputs": [
    {
     "data": {
      "text/plain": [
       "(299697, 8)"
      ]
     },
     "execution_count": 2,
     "metadata": {},
     "output_type": "execute_result"
    }
   ],
   "source": [
    "observations = pd.read_csv(\"csv/observations.csv\")\n",
    "observations.shape"
   ]
  },
  {
   "cell_type": "code",
   "execution_count": 3,
   "metadata": {},
   "outputs": [
    {
     "name": "stdout",
     "output_type": "stream",
     "text": [
      "<class 'pandas.core.frame.DataFrame'>\n",
      "RangeIndex: 299697 entries, 0 to 299696\n",
      "Data columns (total 8 columns):\n",
      " #   Column       Non-Null Count   Dtype \n",
      "---  ------       --------------   ----- \n",
      " 0   DATE         299697 non-null  object\n",
      " 1   PATIENT      299697 non-null  object\n",
      " 2   ENCOUNTER    269334 non-null  object\n",
      " 3   CODE         299697 non-null  object\n",
      " 4   DESCRIPTION  299697 non-null  object\n",
      " 5   VALUE        299697 non-null  object\n",
      " 6   UNITS        286962 non-null  object\n",
      " 7   TYPE         299697 non-null  object\n",
      "dtypes: object(8)\n",
      "memory usage: 18.3+ MB\n"
     ]
    }
   ],
   "source": [
    "observations.info()"
   ]
  },
  {
   "cell_type": "code",
   "execution_count": 4,
   "metadata": {},
   "outputs": [
    {
     "name": "stdout",
     "output_type": "stream",
     "text": [
      "<class 'pandas.core.frame.DataFrame'>\n",
      "Int64Index: 278488 entries, 0 to 299696\n",
      "Data columns (total 8 columns):\n",
      " #   Column       Non-Null Count   Dtype  \n",
      "---  ------       --------------   -----  \n",
      " 0   DATE         278488 non-null  object \n",
      " 1   PATIENT      278488 non-null  object \n",
      " 2   ENCOUNTER    248125 non-null  object \n",
      " 3   CODE         278488 non-null  object \n",
      " 4   DESCRIPTION  278488 non-null  object \n",
      " 5   VALUE        278488 non-null  float64\n",
      " 6   UNITS        278488 non-null  object \n",
      " 7   TYPE         278488 non-null  object \n",
      "dtypes: float64(1), object(7)\n",
      "memory usage: 19.1+ MB\n"
     ]
    }
   ],
   "source": [
    "observations = observations[observations.TYPE==\"numeric\"]\n",
    "observations[\"VALUE\"] = observations[\"VALUE\"].astype(float)\n",
    "observations.info()"
   ]
  },
  {
   "cell_type": "code",
   "execution_count": 6,
   "metadata": {},
   "outputs": [],
   "source": [
    "CLARIFAI_PAT=\"\""
   ]
  },
  {
   "cell_type": "code",
   "execution_count": 7,
   "metadata": {},
   "outputs": [],
   "source": [
    "# https://python.langchain.com/docs/integrations/llms/clarifai\n",
    "clarifai_llm = Clarifai(\n",
    "    pat=CLARIFAI_PAT, user_id='openai', app_id='chat-completion', model_id='GPT-3_5-turbo'\n",
    ")"
   ]
  },
  {
   "cell_type": "code",
   "execution_count": 8,
   "metadata": {},
   "outputs": [],
   "source": [
    "agent = create_pandas_dataframe_agent(\n",
    "    clarifai_llm,\n",
    "    observations,\n",
    "    verbose=True\n",
    ")"
   ]
  },
  {
   "cell_type": "code",
   "execution_count": 15,
   "metadata": {},
   "outputs": [
    {
     "name": "stdout",
     "output_type": "stream",
     "text": [
      "\n",
      "\n",
      "\u001b[1m> Entering new AgentExecutor chain...\u001b[0m\n"
     ]
    },
    {
     "name": "stdout",
     "output_type": "stream",
     "text": [
      "\u001b[32;1m\u001b[1;3mThought: I need to count the number of unique patient identifiers in the dataframe.\n",
      "Action: Use the `nunique()` function on the 'PATIENT' column of the dataframe.\n",
      "Action Input: `df['PATIENT'].nunique()`\u001b[0m\n",
      "Observation: Use the `nunique()` function on the 'PATIENT' column of the dataframe. is not a valid tool, try one of [python_repl_ast].\n",
      "Thought:\u001b[32;1m\u001b[1;3mI need to use the Python shell to execute the command.\n",
      "Action: python_repl_ast\n",
      "Action Input: `df['PATIENT'].nunique()`\u001b[0m\n",
      "Observation: \u001b[36;1m\u001b[1;3m1171\u001b[0m\n",
      "Thought:\u001b[32;1m\u001b[1;3mThere are 1171 unique patients in the dataset.\n",
      "Final Answer: 1171\u001b[0m\n",
      "\n",
      "\u001b[1m> Finished chain.\u001b[0m\n"
     ]
    },
    {
     "data": {
      "text/plain": [
       "'1171'"
      ]
     },
     "execution_count": 15,
     "metadata": {},
     "output_type": "execute_result"
    }
   ],
   "source": [
    "agent.run(\"How many patients does the dataset include?\")"
   ]
  }
 ],
 "metadata": {
  "kernelspec": {
   "display_name": "Python 3",
   "language": "python",
   "name": "python3"
  },
  "language_info": {
   "codemirror_mode": {
    "name": "ipython",
    "version": 3
   },
   "file_extension": ".py",
   "mimetype": "text/x-python",
   "name": "python",
   "nbconvert_exporter": "python",
   "pygments_lexer": "ipython3",
   "version": "3.10.12"
  },
  "orig_nbformat": 4
 },
 "nbformat": 4,
 "nbformat_minor": 2
}
