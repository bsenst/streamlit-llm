{
 "cells": [
  {
   "cell_type": "code",
   "execution_count": 1,
   "metadata": {},
   "outputs": [],
   "source": [
    "import pandas as pd"
   ]
  },
  {
   "cell_type": "code",
   "execution_count": 2,
   "metadata": {},
   "outputs": [
    {
     "name": "stdout",
     "output_type": "stream",
     "text": [
      "--2023-09-07 10:22:52--  https://synthetichealth.github.io/synthea-sample-data/downloads/synthea_sample_data_csv_apr2020.zip\n",
      "Resolving synthetichealth.github.io (synthetichealth.github.io)... 185.199.108.153, 185.199.110.153, 185.199.109.153, ...\n",
      "Connecting to synthetichealth.github.io (synthetichealth.github.io)|185.199.108.153|:443... connected.\n",
      "HTTP request sent, awaiting response... "
     ]
    },
    {
     "name": "stdout",
     "output_type": "stream",
     "text": [
      "200 OK\n",
      "Length: 8982431 (8.6M) [application/zip]\n",
      "Saving to: ‘synthea_sample_data_csv_apr2020.zip.1’\n",
      "\n",
      "synthea_sample_data 100%[===================>]   8.57M  2.59MB/s    in 3.4s    \n",
      "\n",
      "2023-09-07 10:23:00 (2.54 MB/s) - ‘synthea_sample_data_csv_apr2020.zip.1’ saved [8982431/8982431]\n",
      "\n"
     ]
    }
   ],
   "source": [
    "# ! wget https://synthetichealth.github.io/synthea-sample-data/downloads/synthea_sample_data_csv_apr2020.zip"
   ]
  },
  {
   "cell_type": "code",
   "execution_count": 3,
   "metadata": {},
   "outputs": [
    {
     "name": "stdout",
     "output_type": "stream",
     "text": [
      "Archive:  synthea_sample_data_csv_apr2020.zip\n",
      "replace csv/medications.csv? [y]es, [n]o, [A]ll, [N]one, [r]ename: "
     ]
    },
    {
     "name": "stdout",
     "output_type": "stream",
     "text": [
      "^C\n"
     ]
    }
   ],
   "source": [
    "# ! unzip synthea_sample_data_csv_apr2020.zip"
   ]
  },
  {
   "cell_type": "markdown",
   "metadata": {},
   "source": [
    "# EDA Syntha data"
   ]
  },
  {
   "cell_type": "code",
   "execution_count": 2,
   "metadata": {},
   "outputs": [
    {
     "data": {
      "text/html": [
       "<div>\n",
       "<style scoped>\n",
       "    .dataframe tbody tr th:only-of-type {\n",
       "        vertical-align: middle;\n",
       "    }\n",
       "\n",
       "    .dataframe tbody tr th {\n",
       "        vertical-align: top;\n",
       "    }\n",
       "\n",
       "    .dataframe thead th {\n",
       "        text-align: right;\n",
       "    }\n",
       "</style>\n",
       "<table border=\"1\" class=\"dataframe\">\n",
       "  <thead>\n",
       "    <tr style=\"text-align: right;\">\n",
       "      <th></th>\n",
       "      <th>DATE</th>\n",
       "      <th>PATIENT</th>\n",
       "      <th>ENCOUNTER</th>\n",
       "      <th>CODE</th>\n",
       "      <th>DESCRIPTION</th>\n",
       "      <th>VALUE</th>\n",
       "      <th>UNITS</th>\n",
       "      <th>TYPE</th>\n",
       "    </tr>\n",
       "  </thead>\n",
       "  <tbody>\n",
       "    <tr>\n",
       "      <th>0</th>\n",
       "      <td>2012-01-23T17:45:28Z</td>\n",
       "      <td>034e9e3b-2def-4559-bb2a-7850888ae060</td>\n",
       "      <td>e88bc3a9-007c-405e-aabc-792a38f4aa2b</td>\n",
       "      <td>8302-2</td>\n",
       "      <td>Body Height</td>\n",
       "      <td>193.3</td>\n",
       "      <td>cm</td>\n",
       "      <td>numeric</td>\n",
       "    </tr>\n",
       "    <tr>\n",
       "      <th>1</th>\n",
       "      <td>2012-01-23T17:45:28Z</td>\n",
       "      <td>034e9e3b-2def-4559-bb2a-7850888ae060</td>\n",
       "      <td>e88bc3a9-007c-405e-aabc-792a38f4aa2b</td>\n",
       "      <td>72514-3</td>\n",
       "      <td>Pain severity - 0-10 verbal numeric rating [Sc...</td>\n",
       "      <td>2.0</td>\n",
       "      <td>{score}</td>\n",
       "      <td>numeric</td>\n",
       "    </tr>\n",
       "    <tr>\n",
       "      <th>2</th>\n",
       "      <td>2012-01-23T17:45:28Z</td>\n",
       "      <td>034e9e3b-2def-4559-bb2a-7850888ae060</td>\n",
       "      <td>e88bc3a9-007c-405e-aabc-792a38f4aa2b</td>\n",
       "      <td>29463-7</td>\n",
       "      <td>Body Weight</td>\n",
       "      <td>87.8</td>\n",
       "      <td>kg</td>\n",
       "      <td>numeric</td>\n",
       "    </tr>\n",
       "    <tr>\n",
       "      <th>3</th>\n",
       "      <td>2012-01-23T17:45:28Z</td>\n",
       "      <td>034e9e3b-2def-4559-bb2a-7850888ae060</td>\n",
       "      <td>e88bc3a9-007c-405e-aabc-792a38f4aa2b</td>\n",
       "      <td>39156-5</td>\n",
       "      <td>Body Mass Index</td>\n",
       "      <td>23.5</td>\n",
       "      <td>kg/m2</td>\n",
       "      <td>numeric</td>\n",
       "    </tr>\n",
       "    <tr>\n",
       "      <th>4</th>\n",
       "      <td>2012-01-23T17:45:28Z</td>\n",
       "      <td>034e9e3b-2def-4559-bb2a-7850888ae060</td>\n",
       "      <td>e88bc3a9-007c-405e-aabc-792a38f4aa2b</td>\n",
       "      <td>8462-4</td>\n",
       "      <td>Diastolic Blood Pressure</td>\n",
       "      <td>82.0</td>\n",
       "      <td>mm[Hg]</td>\n",
       "      <td>numeric</td>\n",
       "    </tr>\n",
       "  </tbody>\n",
       "</table>\n",
       "</div>"
      ],
      "text/plain": [
       "                   DATE                               PATIENT  \\\n",
       "0  2012-01-23T17:45:28Z  034e9e3b-2def-4559-bb2a-7850888ae060   \n",
       "1  2012-01-23T17:45:28Z  034e9e3b-2def-4559-bb2a-7850888ae060   \n",
       "2  2012-01-23T17:45:28Z  034e9e3b-2def-4559-bb2a-7850888ae060   \n",
       "3  2012-01-23T17:45:28Z  034e9e3b-2def-4559-bb2a-7850888ae060   \n",
       "4  2012-01-23T17:45:28Z  034e9e3b-2def-4559-bb2a-7850888ae060   \n",
       "\n",
       "                              ENCOUNTER     CODE  \\\n",
       "0  e88bc3a9-007c-405e-aabc-792a38f4aa2b   8302-2   \n",
       "1  e88bc3a9-007c-405e-aabc-792a38f4aa2b  72514-3   \n",
       "2  e88bc3a9-007c-405e-aabc-792a38f4aa2b  29463-7   \n",
       "3  e88bc3a9-007c-405e-aabc-792a38f4aa2b  39156-5   \n",
       "4  e88bc3a9-007c-405e-aabc-792a38f4aa2b   8462-4   \n",
       "\n",
       "                                         DESCRIPTION  VALUE    UNITS     TYPE  \n",
       "0                                        Body Height  193.3       cm  numeric  \n",
       "1  Pain severity - 0-10 verbal numeric rating [Sc...    2.0  {score}  numeric  \n",
       "2                                        Body Weight   87.8       kg  numeric  \n",
       "3                                    Body Mass Index   23.5    kg/m2  numeric  \n",
       "4                           Diastolic Blood Pressure   82.0   mm[Hg]  numeric  "
      ]
     },
     "execution_count": 2,
     "metadata": {},
     "output_type": "execute_result"
    }
   ],
   "source": [
    "df = pd.read_csv(\"csv/observations.csv\")\n",
    "df.head()"
   ]
  },
  {
   "cell_type": "code",
   "execution_count": 8,
   "metadata": {},
   "outputs": [
    {
     "data": {
      "text/plain": [
       "array(['0.3', '0.2'], dtype=object)"
      ]
     },
     "execution_count": 8,
     "metadata": {},
     "output_type": "execute_result"
    }
   ],
   "source": [
    "df[df.DESCRIPTION.str.contains(\"T4\")].VALUE.unique()"
   ]
  },
  {
   "cell_type": "code",
   "execution_count": 9,
   "metadata": {},
   "outputs": [
    {
     "data": {
      "text/plain": [
       "array(['1.0'], dtype=object)"
      ]
     },
     "execution_count": 9,
     "metadata": {},
     "output_type": "execute_result"
    }
   ],
   "source": [
    "df[df.DESCRIPTION.str.contains(\"gravity\")].VALUE.unique()"
   ]
  },
  {
   "cell_type": "code",
   "execution_count": 20,
   "metadata": {},
   "outputs": [
    {
     "data": {
      "text/plain": [
       "array(['Erythrocyte distribution width [Entitic volume] by Automated count',\n",
       "       'Platelet distribution width [Entitic volume] in Blood by Automated count',\n",
       "       'RDW - Erythrocyte distribution width Auto (RBC) [Entitic vol]'],\n",
       "      dtype=object)"
      ]
     },
     "execution_count": 20,
     "metadata": {},
     "output_type": "execute_result"
    }
   ],
   "source": [
    "df[df.DESCRIPTION.str.contains(\"istribution\")][[\"DESCRIPTION\", \"CODE\"]].DESCRIPTION.unique()"
   ]
  },
  {
   "cell_type": "code",
   "execution_count": 5,
   "metadata": {},
   "outputs": [
    {
     "data": {
      "text/plain": [
       "count    1171\n",
       "mean      256\n",
       "std       501\n",
       "min        34\n",
       "25%       134\n",
       "50%       164\n",
       "75%       244\n",
       "max      9023\n",
       "Name: PATIENT, dtype: int64"
      ]
     },
     "execution_count": 5,
     "metadata": {},
     "output_type": "execute_result"
    }
   ],
   "source": [
    "df.PATIENT.value_counts().describe().round(0).astype(int)"
   ]
  },
  {
   "cell_type": "code",
   "execution_count": 6,
   "metadata": {},
   "outputs": [
    {
     "data": {
      "text/plain": [
       "array(['Tobacco smoking status NHIS', 'Never smoker', nan], dtype=object)"
      ]
     },
     "execution_count": 6,
     "metadata": {},
     "output_type": "execute_result"
    }
   ],
   "source": [
    "df[df.PATIENT==df.PATIENT.unique()[1]][[\"DESCRIPTION\", \"VALUE\", \"UNITS\"]][:30].values[24]"
   ]
  },
  {
   "cell_type": "code",
   "execution_count": 7,
   "metadata": {},
   "outputs": [],
   "source": [
    "observations = \", \".join([\" \".join(el) for el in df[df.PATIENT==df.PATIENT.unique()[1]][[\"DESCRIPTION\", \"VALUE\", \"UNITS\"]][:30].values[:24]])"
   ]
  },
  {
   "cell_type": "code",
   "execution_count": 22,
   "metadata": {},
   "outputs": [
    {
     "data": {
      "text/plain": [
       "1133"
      ]
     },
     "execution_count": 22,
     "metadata": {},
     "output_type": "execute_result"
    }
   ],
   "source": [
    "len(observations)"
   ]
  },
  {
   "cell_type": "code",
   "execution_count": 24,
   "metadata": {},
   "outputs": [
    {
     "data": {
      "text/plain": [
       "'Body temperature 37.1 Cel, Body Height 162.5 cm, Pain severity - 0-10 verbal numeric rating [Score] - Reported 3.0 {score}, Body Weight 77.4 kg, Body Mass Index 29.3 kg/m2, Diastolic Blood Pressure 87.0 mm[Hg], Systolic Blood Pressure 127.0 mm[Hg], Heart rate 70.0 /min, Respiratory rate 13.0 /min, Total Cholesterol 174.1 mg/dL, Triglycerides 101.8 mg/dL, Low Density Lipoprotein Cholesterol 86.9 mg/dL, High Density Lipoprotein Cholesterol 66.9 mg/dL, Leukocytes [#/volume] in Blood by Automated count 4.6 10*3/uL, Erythrocytes [#/volume] in Blood by Automated count 4.2 10*6/uL, Hemoglobin [Mass/volume] in Blood 12.3 g/dL, Hematocrit [Volume Fraction] of Blood by Automated count 45.0 %, MCV [Entitic volume] by Automated count 86.3 fL, MCH [Entitic mass] by Automated count 32.4 pg, MCHC [Mass/volume] by Automated count 33.9 g/dL, Erythrocyte distribution width [Entitic volume] by Automated count 45.7 fL, Platelets [#/volume] in Blood by Automated count 259.0 10*3/uL, Platelet distribution width [Entitic volume] in Blood by Automated count 440.7 fL, Platelet mean volume [Entitic volume] in Blood by Automated count 12.1 fL'"
      ]
     },
     "execution_count": 24,
     "metadata": {},
     "output_type": "execute_result"
    }
   ],
   "source": [
    "observations"
   ]
  },
  {
   "cell_type": "code",
   "execution_count": 20,
   "metadata": {},
   "outputs": [
    {
     "data": {
      "text/html": [
       "<div>\n",
       "<style scoped>\n",
       "    .dataframe tbody tr th:only-of-type {\n",
       "        vertical-align: middle;\n",
       "    }\n",
       "\n",
       "    .dataframe tbody tr th {\n",
       "        vertical-align: top;\n",
       "    }\n",
       "\n",
       "    .dataframe thead th {\n",
       "        text-align: right;\n",
       "    }\n",
       "</style>\n",
       "<table border=\"1\" class=\"dataframe\">\n",
       "  <thead>\n",
       "    <tr style=\"text-align: right;\">\n",
       "      <th></th>\n",
       "      <th>START</th>\n",
       "      <th>STOP</th>\n",
       "      <th>PATIENT</th>\n",
       "      <th>ENCOUNTER</th>\n",
       "      <th>CODE</th>\n",
       "      <th>DESCRIPTION</th>\n",
       "    </tr>\n",
       "  </thead>\n",
       "  <tbody>\n",
       "    <tr>\n",
       "      <th>0</th>\n",
       "      <td>2001-05-01</td>\n",
       "      <td>NaN</td>\n",
       "      <td>1d604da9-9a81-4ba9-80c2-de3375d59b40</td>\n",
       "      <td>8f104aa7-4ca9-4473-885a-bba2437df588</td>\n",
       "      <td>40055000</td>\n",
       "      <td>Chronic sinusitis (disorder)</td>\n",
       "    </tr>\n",
       "  </tbody>\n",
       "</table>\n",
       "</div>"
      ],
      "text/plain": [
       "        START STOP                               PATIENT  \\\n",
       "0  2001-05-01  NaN  1d604da9-9a81-4ba9-80c2-de3375d59b40   \n",
       "\n",
       "                              ENCOUNTER      CODE  \\\n",
       "0  8f104aa7-4ca9-4473-885a-bba2437df588  40055000   \n",
       "\n",
       "                    DESCRIPTION  \n",
       "0  Chronic sinusitis (disorder)  "
      ]
     },
     "execution_count": 20,
     "metadata": {},
     "output_type": "execute_result"
    }
   ],
   "source": [
    "conditions = pd.read_csv(\"csv/conditions.csv\")\n",
    "conditions.head(1)"
   ]
  },
  {
   "cell_type": "code",
   "execution_count": 26,
   "metadata": {},
   "outputs": [
    {
     "data": {
      "text/plain": [
       "array(['Chronic sinusitis (disorder)', 'Viral sinusitis (disorder)',\n",
       "       'Acute viral pharyngitis (disorder)',\n",
       "       'Acute bronchitis (disorder)',\n",
       "       'Streptococcal sore throat (disorder)', 'Laceration of foot',\n",
       "       'Acute bacterial sinusitis (disorder)', 'Sprain of wrist',\n",
       "       'Otitis media', 'Body mass index 30+ - obesity (finding)',\n",
       "       'Cystitis', 'Fracture of forearm', 'Impacted molars',\n",
       "       'Normal pregnancy', 'Sinusitis (disorder)', 'Anemia (disorder)',\n",
       "       'Miscarriage in first trimester',\n",
       "       'Fetus with unknown complication', 'Prediabetes', 'Hypertension',\n",
       "       'Escherichia coli urinary tract infection',\n",
       "       'Whiplash injury to neck', 'Atrial Fibrillation',\n",
       "       'Sprain of ankle', 'Laceration of forearm',\n",
       "       'Malignant neoplasm of breast (disorder)', 'Laceration of thigh',\n",
       "       'Osteoarthritis of knee', 'Preeclampsia',\n",
       "       'Perennial allergic rhinitis with seasonal variation',\n",
       "       'Fracture of clavicle', 'Childhood asthma', 'Facial laceration',\n",
       "       'Acute allergic reaction',\n",
       "       'Concussion with no loss of consciousness',\n",
       "       'Recurrent urinary tract infection', 'Hyperlipidemia',\n",
       "       'Osteoarthritis of hip', 'Coronary Heart Disease',\n",
       "       'Polyp of colon', 'Tubal pregnancy', 'Blighted ovum', 'Stroke',\n",
       "       'Fracture of the vertebral column with spinal cord injury',\n",
       "       'Atopic dermatitis', 'Seasonal allergic rhinitis',\n",
       "       'Cardiac Arrest', 'History of cardiac arrest (situation)',\n",
       "       'Fracture of ankle', 'Second degree burn',\n",
       "       'Fracture subluxation of wrist', 'Diabetes',\n",
       "       'Hypertriglyceridemia (disorder)',\n",
       "       'Metabolic syndrome X (disorder)', 'Fracture of rib',\n",
       "       'Antepartum eclampsia', 'Chronic pain',\n",
       "       'Chronic intractable migraine without aura', 'Drug overdose',\n",
       "       'Osteoporosis (disorder)', 'Idiopathic atrophic hypothyroidism',\n",
       "       'Seizure disorder', 'History of single seizure (situation)',\n",
       "       'Perennial allergic rhinitis', 'Epilepsy', 'Myocardial Infarction',\n",
       "       'History of myocardial infarction (situation)',\n",
       "       'Body mass index 40+ - severely obese (finding)',\n",
       "       'Hyperglycemia (disorder)',\n",
       "       'Neuropathy due to type 2 diabetes mellitus (disorder)',\n",
       "       'Diabetic retinopathy associated with type II diabetes mellitus (disorder)',\n",
       "       'Nonproliferative diabetic retinopathy due to type 2 diabetes mellitus (disorder)',\n",
       "       'Chronic kidney disease stage 1 (disorder)',\n",
       "       'Diabetic renal disease (disorder)',\n",
       "       'Localized  primary osteoarthritis of the hand',\n",
       "       'Neoplasm of prostate', 'Carcinoma in situ of prostate (disorder)',\n",
       "       'Laceration of hand',\n",
       "       'Injury of tendon of the rotator cuff of shoulder',\n",
       "       'Pulmonary emphysema (disorder)', 'Appendicitis',\n",
       "       'History of appendectomy', 'Major depression disorder',\n",
       "       'Alcoholism', 'Burn injury(morphologic abnormality)',\n",
       "       'Rupture of patellar tendon',\n",
       "       'Concussion with loss of consciousness',\n",
       "       'Child attention deficit disorder',\n",
       "       'Injury of medial collateral ligament of knee',\n",
       "       'Recurrent rectal polyp', 'Contact dermatitis',\n",
       "       \"Familial Alzheimer's disease of early onset (disorder)\",\n",
       "       'Chronic kidney disease stage 2 (disorder)',\n",
       "       'Microalbuminuria due to type 2 diabetes mellitus (disorder)',\n",
       "       'Bleeding from anus', 'Protracted diarrhea',\n",
       "       'Malignant tumor of colon', 'First degree burn',\n",
       "       'Suspected lung cancer (situation)',\n",
       "       'Non-small cell lung cancer (disorder)',\n",
       "       'Non-small cell carcinoma of lung  TNM stage 1 (disorder)',\n",
       "       'Chronic congestive heart failure (disorder)',\n",
       "       'Chronic obstructive bronchitis (disorder)',\n",
       "       'Tear of meniscus of knee',\n",
       "       'Fracture of vertebral column without spinal cord injury',\n",
       "       'Smokes tobacco daily', 'Gout', 'Rupture of appendix',\n",
       "       \"Alzheimer's disease (disorder)\", 'Pneumonia',\n",
       "       'Opioid abuse (disorder)', 'Concussion injury of brain',\n",
       "       'Metastasis from malignant tumor of prostate (disorder)',\n",
       "       'Closed fracture of hip', 'Rheumatoid arthritis',\n",
       "       'Overlapping malignant neoplasm of colon',\n",
       "       'Macular edema and retinopathy due to type 2 diabetes mellitus (disorder)',\n",
       "       'Pathological fracture due to osteoporosis (disorder)',\n",
       "       'Brain damage - traumatic',\n",
       "       'Secondary malignant neoplasm of colon', 'Bullet wound',\n",
       "       'Proliferative diabetic retinopathy due to type II diabetes mellitus (disorder)',\n",
       "       'Injury of anterior cruciate ligament', 'Pyelonephritis',\n",
       "       'Primary fibromyalgia syndrome',\n",
       "       'Primary malignant neoplasm of colon',\n",
       "       'Small cell carcinoma of lung (disorder)',\n",
       "       'Primary small cell malignant neoplasm of lung  TNM stage 1 (disorder)',\n",
       "       'Major depression  single episode'], dtype=object)"
      ]
     },
     "execution_count": 26,
     "metadata": {},
     "output_type": "execute_result"
    }
   ],
   "source": [
    "conditions.DESCRIPTION.unique()"
   ]
  },
  {
   "cell_type": "code",
   "execution_count": 19,
   "metadata": {},
   "outputs": [
    {
     "data": {
      "text/html": [
       "<div>\n",
       "<style scoped>\n",
       "    .dataframe tbody tr th:only-of-type {\n",
       "        vertical-align: middle;\n",
       "    }\n",
       "\n",
       "    .dataframe tbody tr th {\n",
       "        vertical-align: top;\n",
       "    }\n",
       "\n",
       "    .dataframe thead th {\n",
       "        text-align: right;\n",
       "    }\n",
       "</style>\n",
       "<table border=\"1\" class=\"dataframe\">\n",
       "  <thead>\n",
       "    <tr style=\"text-align: right;\">\n",
       "      <th></th>\n",
       "      <th>START</th>\n",
       "      <th>STOP</th>\n",
       "      <th>PATIENT</th>\n",
       "      <th>PAYER</th>\n",
       "      <th>ENCOUNTER</th>\n",
       "      <th>CODE</th>\n",
       "      <th>DESCRIPTION</th>\n",
       "      <th>BASE_COST</th>\n",
       "      <th>PAYER_COVERAGE</th>\n",
       "      <th>DISPENSES</th>\n",
       "      <th>TOTALCOST</th>\n",
       "      <th>REASONCODE</th>\n",
       "      <th>REASONDESCRIPTION</th>\n",
       "    </tr>\n",
       "  </thead>\n",
       "  <tbody>\n",
       "    <tr>\n",
       "      <th>0</th>\n",
       "      <td>2010-05-05T00:26:23Z</td>\n",
       "      <td>2011-04-30T00:26:23Z</td>\n",
       "      <td>8d4c4326-e9de-4f45-9a4c-f8c36bff89ae</td>\n",
       "      <td>b1c428d6-4f07-31e0-90f0-68ffa6ff8c76</td>\n",
       "      <td>1e0d6b0e-1711-4a25-99f9-b1c700c9b260</td>\n",
       "      <td>389221</td>\n",
       "      <td>Etonogestrel 68 MG Drug Implant</td>\n",
       "      <td>677.08</td>\n",
       "      <td>0.0</td>\n",
       "      <td>12</td>\n",
       "      <td>8124.96</td>\n",
       "      <td>NaN</td>\n",
       "      <td>NaN</td>\n",
       "    </tr>\n",
       "  </tbody>\n",
       "</table>\n",
       "</div>"
      ],
      "text/plain": [
       "                  START                  STOP  \\\n",
       "0  2010-05-05T00:26:23Z  2011-04-30T00:26:23Z   \n",
       "\n",
       "                                PATIENT                                 PAYER  \\\n",
       "0  8d4c4326-e9de-4f45-9a4c-f8c36bff89ae  b1c428d6-4f07-31e0-90f0-68ffa6ff8c76   \n",
       "\n",
       "                              ENCOUNTER    CODE  \\\n",
       "0  1e0d6b0e-1711-4a25-99f9-b1c700c9b260  389221   \n",
       "\n",
       "                       DESCRIPTION  BASE_COST  PAYER_COVERAGE  DISPENSES  \\\n",
       "0  Etonogestrel 68 MG Drug Implant     677.08             0.0         12   \n",
       "\n",
       "   TOTALCOST  REASONCODE REASONDESCRIPTION  \n",
       "0    8124.96         NaN               NaN  "
      ]
     },
     "execution_count": 19,
     "metadata": {},
     "output_type": "execute_result"
    }
   ],
   "source": [
    "medications = pd.read_csv(\"csv/medications.csv\")\n",
    "medications.head(1)"
   ]
  },
  {
   "cell_type": "code",
   "execution_count": 18,
   "metadata": {},
   "outputs": [
    {
     "data": {
      "text/html": [
       "<div>\n",
       "<style scoped>\n",
       "    .dataframe tbody tr th:only-of-type {\n",
       "        vertical-align: middle;\n",
       "    }\n",
       "\n",
       "    .dataframe tbody tr th {\n",
       "        vertical-align: top;\n",
       "    }\n",
       "\n",
       "    .dataframe thead th {\n",
       "        text-align: right;\n",
       "    }\n",
       "</style>\n",
       "<table border=\"1\" class=\"dataframe\">\n",
       "  <thead>\n",
       "    <tr style=\"text-align: right;\">\n",
       "      <th></th>\n",
       "      <th>Id</th>\n",
       "      <th>START</th>\n",
       "      <th>STOP</th>\n",
       "      <th>PATIENT</th>\n",
       "      <th>ENCOUNTER</th>\n",
       "      <th>CODE</th>\n",
       "      <th>DESCRIPTION</th>\n",
       "      <th>REASONCODE</th>\n",
       "      <th>REASONDESCRIPTION</th>\n",
       "    </tr>\n",
       "  </thead>\n",
       "  <tbody>\n",
       "    <tr>\n",
       "      <th>0</th>\n",
       "      <td>d2500b8c-e830-433a-8b9d-368d30741520</td>\n",
       "      <td>2010-01-23</td>\n",
       "      <td>2012-01-23</td>\n",
       "      <td>034e9e3b-2def-4559-bb2a-7850888ae060</td>\n",
       "      <td>d0c40d10-8d87-447e-836e-99d26ad52ea5</td>\n",
       "      <td>53950000</td>\n",
       "      <td>Respiratory therapy</td>\n",
       "      <td>10509002.0</td>\n",
       "      <td>Acute bronchitis (disorder)</td>\n",
       "    </tr>\n",
       "  </tbody>\n",
       "</table>\n",
       "</div>"
      ],
      "text/plain": [
       "                                     Id       START        STOP  \\\n",
       "0  d2500b8c-e830-433a-8b9d-368d30741520  2010-01-23  2012-01-23   \n",
       "\n",
       "                                PATIENT                             ENCOUNTER  \\\n",
       "0  034e9e3b-2def-4559-bb2a-7850888ae060  d0c40d10-8d87-447e-836e-99d26ad52ea5   \n",
       "\n",
       "       CODE          DESCRIPTION  REASONCODE            REASONDESCRIPTION  \n",
       "0  53950000  Respiratory therapy  10509002.0  Acute bronchitis (disorder)  "
      ]
     },
     "execution_count": 18,
     "metadata": {},
     "output_type": "execute_result"
    }
   ],
   "source": [
    "careplans = pd.read_csv(\"csv/careplans.csv\")\n",
    "careplans.head(1)"
   ]
  },
  {
   "cell_type": "code",
   "execution_count": 17,
   "metadata": {},
   "outputs": [
    {
     "data": {
      "text/html": [
       "<div>\n",
       "<style scoped>\n",
       "    .dataframe tbody tr th:only-of-type {\n",
       "        vertical-align: middle;\n",
       "    }\n",
       "\n",
       "    .dataframe tbody tr th {\n",
       "        vertical-align: top;\n",
       "    }\n",
       "\n",
       "    .dataframe thead th {\n",
       "        text-align: right;\n",
       "    }\n",
       "</style>\n",
       "<table border=\"1\" class=\"dataframe\">\n",
       "  <thead>\n",
       "    <tr style=\"text-align: right;\">\n",
       "      <th></th>\n",
       "      <th>START</th>\n",
       "      <th>STOP</th>\n",
       "      <th>PATIENT</th>\n",
       "      <th>ENCOUNTER</th>\n",
       "      <th>CODE</th>\n",
       "      <th>DESCRIPTION</th>\n",
       "      <th>UDI</th>\n",
       "    </tr>\n",
       "  </thead>\n",
       "  <tbody>\n",
       "    <tr>\n",
       "      <th>0</th>\n",
       "      <td>2001-07-04T08:42:44Z</td>\n",
       "      <td>NaN</td>\n",
       "      <td>d49f748f-928d-40e8-92c8-73e4c5679711</td>\n",
       "      <td>2500b8bd-dc98-44ef-a252-22dc4f81d61b</td>\n",
       "      <td>72506001</td>\n",
       "      <td>Implantable defibrillator  device (physical ob...</td>\n",
       "      <td>(01)67677988606464(11)010613(17)260628(10)2882...</td>\n",
       "    </tr>\n",
       "  </tbody>\n",
       "</table>\n",
       "</div>"
      ],
      "text/plain": [
       "                  START  STOP                               PATIENT  \\\n",
       "0  2001-07-04T08:42:44Z   NaN  d49f748f-928d-40e8-92c8-73e4c5679711   \n",
       "\n",
       "                              ENCOUNTER      CODE  \\\n",
       "0  2500b8bd-dc98-44ef-a252-22dc4f81d61b  72506001   \n",
       "\n",
       "                                         DESCRIPTION  \\\n",
       "0  Implantable defibrillator  device (physical ob...   \n",
       "\n",
       "                                                 UDI  \n",
       "0  (01)67677988606464(11)010613(17)260628(10)2882...  "
      ]
     },
     "execution_count": 17,
     "metadata": {},
     "output_type": "execute_result"
    }
   ],
   "source": [
    "devices = pd.read_csv(\"csv/devices.csv\")\n",
    "devices.head(1)"
   ]
  },
  {
   "cell_type": "code",
   "execution_count": 16,
   "metadata": {},
   "outputs": [
    {
     "data": {
      "text/html": [
       "<div>\n",
       "<style scoped>\n",
       "    .dataframe tbody tr th:only-of-type {\n",
       "        vertical-align: middle;\n",
       "    }\n",
       "\n",
       "    .dataframe tbody tr th {\n",
       "        vertical-align: top;\n",
       "    }\n",
       "\n",
       "    .dataframe thead th {\n",
       "        text-align: right;\n",
       "    }\n",
       "</style>\n",
       "<table border=\"1\" class=\"dataframe\">\n",
       "  <thead>\n",
       "    <tr style=\"text-align: right;\">\n",
       "      <th></th>\n",
       "      <th>Id</th>\n",
       "      <th>START</th>\n",
       "      <th>STOP</th>\n",
       "      <th>PATIENT</th>\n",
       "      <th>ORGANIZATION</th>\n",
       "      <th>PROVIDER</th>\n",
       "      <th>PAYER</th>\n",
       "      <th>ENCOUNTERCLASS</th>\n",
       "      <th>CODE</th>\n",
       "      <th>DESCRIPTION</th>\n",
       "      <th>BASE_ENCOUNTER_COST</th>\n",
       "      <th>TOTAL_CLAIM_COST</th>\n",
       "      <th>PAYER_COVERAGE</th>\n",
       "      <th>REASONCODE</th>\n",
       "      <th>REASONDESCRIPTION</th>\n",
       "    </tr>\n",
       "  </thead>\n",
       "  <tbody>\n",
       "    <tr>\n",
       "      <th>0</th>\n",
       "      <td>d0c40d10-8d87-447e-836e-99d26ad52ea5</td>\n",
       "      <td>2010-01-23T17:45:28Z</td>\n",
       "      <td>2010-01-23T18:10:28Z</td>\n",
       "      <td>034e9e3b-2def-4559-bb2a-7850888ae060</td>\n",
       "      <td>e002090d-4e92-300e-b41e-7d1f21dee4c6</td>\n",
       "      <td>e6283e46-fd81-3611-9459-0edb1c3da357</td>\n",
       "      <td>6e2f1a2d-27bd-3701-8d08-dae202c58632</td>\n",
       "      <td>ambulatory</td>\n",
       "      <td>185345009</td>\n",
       "      <td>Encounter for symptom</td>\n",
       "      <td>129.16</td>\n",
       "      <td>129.16</td>\n",
       "      <td>54.16</td>\n",
       "      <td>10509002.0</td>\n",
       "      <td>Acute bronchitis (disorder)</td>\n",
       "    </tr>\n",
       "  </tbody>\n",
       "</table>\n",
       "</div>"
      ],
      "text/plain": [
       "                                     Id                 START  \\\n",
       "0  d0c40d10-8d87-447e-836e-99d26ad52ea5  2010-01-23T17:45:28Z   \n",
       "\n",
       "                   STOP                               PATIENT  \\\n",
       "0  2010-01-23T18:10:28Z  034e9e3b-2def-4559-bb2a-7850888ae060   \n",
       "\n",
       "                           ORGANIZATION                              PROVIDER  \\\n",
       "0  e002090d-4e92-300e-b41e-7d1f21dee4c6  e6283e46-fd81-3611-9459-0edb1c3da357   \n",
       "\n",
       "                                  PAYER ENCOUNTERCLASS       CODE  \\\n",
       "0  6e2f1a2d-27bd-3701-8d08-dae202c58632     ambulatory  185345009   \n",
       "\n",
       "             DESCRIPTION  BASE_ENCOUNTER_COST  TOTAL_CLAIM_COST  \\\n",
       "0  Encounter for symptom               129.16            129.16   \n",
       "\n",
       "   PAYER_COVERAGE  REASONCODE            REASONDESCRIPTION  \n",
       "0           54.16  10509002.0  Acute bronchitis (disorder)  "
      ]
     },
     "execution_count": 16,
     "metadata": {},
     "output_type": "execute_result"
    }
   ],
   "source": [
    "encounters = pd.read_csv(\"csv/encounters.csv\")\n",
    "encounters.head(1)"
   ]
  },
  {
   "cell_type": "code",
   "execution_count": 15,
   "metadata": {},
   "outputs": [
    {
     "data": {
      "text/html": [
       "<div>\n",
       "<style scoped>\n",
       "    .dataframe tbody tr th:only-of-type {\n",
       "        vertical-align: middle;\n",
       "    }\n",
       "\n",
       "    .dataframe tbody tr th {\n",
       "        vertical-align: top;\n",
       "    }\n",
       "\n",
       "    .dataframe thead th {\n",
       "        text-align: right;\n",
       "    }\n",
       "</style>\n",
       "<table border=\"1\" class=\"dataframe\">\n",
       "  <thead>\n",
       "    <tr style=\"text-align: right;\">\n",
       "      <th></th>\n",
       "      <th>Id</th>\n",
       "      <th>DATE</th>\n",
       "      <th>PATIENT</th>\n",
       "      <th>ENCOUNTER</th>\n",
       "      <th>BODYSITE_CODE</th>\n",
       "      <th>BODYSITE_DESCRIPTION</th>\n",
       "      <th>MODALITY_CODE</th>\n",
       "      <th>MODALITY_DESCRIPTION</th>\n",
       "      <th>SOP_CODE</th>\n",
       "      <th>SOP_DESCRIPTION</th>\n",
       "    </tr>\n",
       "  </thead>\n",
       "  <tbody>\n",
       "    <tr>\n",
       "      <th>0</th>\n",
       "      <td>d3e49b38-7634-4416-879d-7bc68bf3e7df</td>\n",
       "      <td>2014-07-08T15:35:36Z</td>\n",
       "      <td>b58731cc-2d8b-4c2d-b327-4cab771af3ef</td>\n",
       "      <td>3a36836d-da25-4e73-808b-972b669b7e4e</td>\n",
       "      <td>40983000</td>\n",
       "      <td>Arm</td>\n",
       "      <td>DX</td>\n",
       "      <td>Digital Radiography</td>\n",
       "      <td>1.2.840.10008.5.1.4.1.1.1.1</td>\n",
       "      <td>Digital X-Ray Image Storage</td>\n",
       "    </tr>\n",
       "  </tbody>\n",
       "</table>\n",
       "</div>"
      ],
      "text/plain": [
       "                                     Id                  DATE  \\\n",
       "0  d3e49b38-7634-4416-879d-7bc68bf3e7df  2014-07-08T15:35:36Z   \n",
       "\n",
       "                                PATIENT                             ENCOUNTER  \\\n",
       "0  b58731cc-2d8b-4c2d-b327-4cab771af3ef  3a36836d-da25-4e73-808b-972b669b7e4e   \n",
       "\n",
       "   BODYSITE_CODE BODYSITE_DESCRIPTION MODALITY_CODE MODALITY_DESCRIPTION  \\\n",
       "0       40983000                  Arm            DX  Digital Radiography   \n",
       "\n",
       "                      SOP_CODE              SOP_DESCRIPTION  \n",
       "0  1.2.840.10008.5.1.4.1.1.1.1  Digital X-Ray Image Storage  "
      ]
     },
     "execution_count": 15,
     "metadata": {},
     "output_type": "execute_result"
    }
   ],
   "source": [
    "imaging = pd.read_csv(\"csv/imaging_studies.csv\")\n",
    "imaging.head(1)"
   ]
  },
  {
   "cell_type": "code",
   "execution_count": 21,
   "metadata": {},
   "outputs": [
    {
     "data": {
      "text/html": [
       "<div>\n",
       "<style scoped>\n",
       "    .dataframe tbody tr th:only-of-type {\n",
       "        vertical-align: middle;\n",
       "    }\n",
       "\n",
       "    .dataframe tbody tr th {\n",
       "        vertical-align: top;\n",
       "    }\n",
       "\n",
       "    .dataframe thead th {\n",
       "        text-align: right;\n",
       "    }\n",
       "</style>\n",
       "<table border=\"1\" class=\"dataframe\">\n",
       "  <thead>\n",
       "    <tr style=\"text-align: right;\">\n",
       "      <th></th>\n",
       "      <th>DATE</th>\n",
       "      <th>PATIENT</th>\n",
       "      <th>ENCOUNTER</th>\n",
       "      <th>CODE</th>\n",
       "      <th>DESCRIPTION</th>\n",
       "      <th>BASE_COST</th>\n",
       "    </tr>\n",
       "  </thead>\n",
       "  <tbody>\n",
       "    <tr>\n",
       "      <th>0</th>\n",
       "      <td>2010-07-27T12:58:08Z</td>\n",
       "      <td>10339b10-3cd1-4ac3-ac13-ec26728cb592</td>\n",
       "      <td>dae2b7cb-1316-4b78-954f-fa610a6c6d0e</td>\n",
       "      <td>140</td>\n",
       "      <td>Influenza  seasonal  injectable  preservative ...</td>\n",
       "      <td>140.52</td>\n",
       "    </tr>\n",
       "  </tbody>\n",
       "</table>\n",
       "</div>"
      ],
      "text/plain": [
       "                   DATE                               PATIENT  \\\n",
       "0  2010-07-27T12:58:08Z  10339b10-3cd1-4ac3-ac13-ec26728cb592   \n",
       "\n",
       "                              ENCOUNTER  CODE  \\\n",
       "0  dae2b7cb-1316-4b78-954f-fa610a6c6d0e   140   \n",
       "\n",
       "                                         DESCRIPTION  BASE_COST  \n",
       "0  Influenza  seasonal  injectable  preservative ...     140.52  "
      ]
     },
     "execution_count": 21,
     "metadata": {},
     "output_type": "execute_result"
    }
   ],
   "source": [
    "immunizations = pd.read_csv(\"csv/immunizations.csv\")\n",
    "immunizations.head(1)"
   ]
  },
  {
   "cell_type": "code",
   "execution_count": null,
   "metadata": {},
   "outputs": [],
   "source": []
  },
  {
   "cell_type": "markdown",
   "metadata": {},
   "source": [
    "# Clarifai LLM"
   ]
  },
  {
   "cell_type": "code",
   "execution_count": 81,
   "metadata": {},
   "outputs": [],
   "source": [
    "CLARIFAI_PAT=\"\" # Place your Clarifai Personal Access Token here"
   ]
  },
  {
   "cell_type": "code",
   "execution_count": 82,
   "metadata": {},
   "outputs": [],
   "source": [
    "import os\n",
    "import streamlit as st\n",
    "from langchain.llms import Clarifai\n",
    "from langchain import PromptTemplate, LLMChain\n",
    "\n",
    "# https://python.langchain.com/docs/integrations/llms/clarifai\n",
    "clarifai_llm = Clarifai(\n",
    "    pat=CLARIFAI_PAT, user_id='openai', app_id='chat-completion', model_id='GPT-3_5-turbo'\n",
    ")\n",
    "\n",
    "template = \"\"\"A patient has the following list of measurements: {observations}\n",
    "\n",
    "The following measurements are out of normal range: \"\"\"\n",
    "\n",
    "prompt = PromptTemplate(template=template, input_variables=[\"observations\"])"
   ]
  },
  {
   "cell_type": "code",
   "execution_count": 83,
   "metadata": {},
   "outputs": [],
   "source": [
    "# Create LLM chain\n",
    "llm_chain = LLMChain(prompt=prompt, llm=clarifai_llm)"
   ]
  },
  {
   "cell_type": "code",
   "execution_count": 84,
   "metadata": {},
   "outputs": [],
   "source": [
    "result = llm_chain.run(observations)"
   ]
  },
  {
   "cell_type": "code",
   "execution_count": 85,
   "metadata": {},
   "outputs": [
    {
     "name": "stdout",
     "output_type": "stream",
     "text": [
      "- Body Mass Index: 29.3 kg/m2 (overweight)\n",
      "- Diastolic Blood Pressure: 87.0 mm[Hg] (elevated)\n",
      "- Total Cholesterol: 174.1 mg/dL (borderline high)\n",
      "- Low Density Lipoprotein Cholesterol: 86.9 mg/dL (borderline high)\n",
      "- Erythrocyte distribution width: 45.7 fL (high)\n",
      "- Platelet distribution width: 440.7 fL (high)\n"
     ]
    }
   ],
   "source": [
    "print(result)"
   ]
  },
  {
   "cell_type": "code",
   "execution_count": null,
   "metadata": {},
   "outputs": [],
   "source": []
  }
 ],
 "metadata": {
  "kernelspec": {
   "display_name": "Python 3",
   "language": "python",
   "name": "python3"
  },
  "language_info": {
   "codemirror_mode": {
    "name": "ipython",
    "version": 3
   },
   "file_extension": ".py",
   "mimetype": "text/x-python",
   "name": "python",
   "nbconvert_exporter": "python",
   "pygments_lexer": "ipython3",
   "version": "3.10.12"
  },
  "orig_nbformat": 4
 },
 "nbformat": 4,
 "nbformat_minor": 2
}
