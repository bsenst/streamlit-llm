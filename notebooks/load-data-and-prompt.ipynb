{
 "cells": [
  {
   "cell_type": "code",
   "execution_count": 1,
   "metadata": {},
   "outputs": [],
   "source": [
    "import pandas as pd"
   ]
  },
  {
   "cell_type": "code",
   "execution_count": 3,
   "metadata": {},
   "outputs": [
    {
     "name": "stdout",
     "output_type": "stream",
     "text": [
      "--2023-09-06 16:44:51--  https://synthetichealth.github.io/synthea-sample-data/downloads/synthea_sample_data_csv_apr2020.zip\n",
      "Resolving synthetichealth.github.io (synthetichealth.github.io)... 185.199.111.153, 185.199.108.153, 185.199.109.153, ...\n",
      "Connecting to synthetichealth.github.io (synthetichealth.github.io)|185.199.111.153|:443... connected.\n",
      "HTTP request sent, awaiting response... 200 OK\n",
      "Length: 8982431 (8.6M) [application/zip]\n",
      "Saving to: ‘synthea_sample_data_csv_apr2020.zip’\n",
      "\n",
      "synthea_sample_data 100%[===================>]   8.57M  3.16MB/s    in 2.7s    \n",
      "\n",
      "2023-09-06 16:44:54 (3.16 MB/s) - ‘synthea_sample_data_csv_apr2020.zip’ saved [8982431/8982431]\n",
      "\n"
     ]
    }
   ],
   "source": [
    "! wget https://synthetichealth.github.io/synthea-sample-data/downloads/synthea_sample_data_csv_apr2020.zip"
   ]
  },
  {
   "cell_type": "code",
   "execution_count": 4,
   "metadata": {},
   "outputs": [
    {
     "name": "stdout",
     "output_type": "stream",
     "text": [
      "Archive:  synthea_sample_data_csv_apr2020.zip\n",
      "   creating: csv/\n",
      "  inflating: csv/medications.csv     \n",
      "  inflating: csv/providers.csv       \n",
      "  inflating: csv/payer_transitions.csv  \n",
      "  inflating: csv/imaging_studies.csv  \n",
      "  inflating: csv/supplies.csv        \n",
      "  inflating: csv/payers.csv          \n",
      "  inflating: csv/allergies.csv       \n",
      "  inflating: csv/procedures.csv      \n",
      "  inflating: csv/organizations.csv   \n",
      "  inflating: csv/conditions.csv      \n",
      "  inflating: csv/careplans.csv       \n",
      "  inflating: csv/encounters.csv      \n",
      "  inflating: csv/devices.csv         \n",
      "  inflating: csv/immunizations.csv   \n",
      "  inflating: csv/patients.csv        \n",
      "  inflating: csv/observations.csv    \n"
     ]
    }
   ],
   "source": [
    "! unzip synthea_sample_data_csv_apr2020.zip"
   ]
  },
  {
   "cell_type": "code",
   "execution_count": 5,
   "metadata": {},
   "outputs": [
    {
     "data": {
      "text/html": [
       "<div>\n",
       "<style scoped>\n",
       "    .dataframe tbody tr th:only-of-type {\n",
       "        vertical-align: middle;\n",
       "    }\n",
       "\n",
       "    .dataframe tbody tr th {\n",
       "        vertical-align: top;\n",
       "    }\n",
       "\n",
       "    .dataframe thead th {\n",
       "        text-align: right;\n",
       "    }\n",
       "</style>\n",
       "<table border=\"1\" class=\"dataframe\">\n",
       "  <thead>\n",
       "    <tr style=\"text-align: right;\">\n",
       "      <th></th>\n",
       "      <th>DATE</th>\n",
       "      <th>PATIENT</th>\n",
       "      <th>ENCOUNTER</th>\n",
       "      <th>CODE</th>\n",
       "      <th>DESCRIPTION</th>\n",
       "      <th>VALUE</th>\n",
       "      <th>UNITS</th>\n",
       "      <th>TYPE</th>\n",
       "    </tr>\n",
       "  </thead>\n",
       "  <tbody>\n",
       "    <tr>\n",
       "      <th>0</th>\n",
       "      <td>2012-01-23T17:45:28Z</td>\n",
       "      <td>034e9e3b-2def-4559-bb2a-7850888ae060</td>\n",
       "      <td>e88bc3a9-007c-405e-aabc-792a38f4aa2b</td>\n",
       "      <td>8302-2</td>\n",
       "      <td>Body Height</td>\n",
       "      <td>193.3</td>\n",
       "      <td>cm</td>\n",
       "      <td>numeric</td>\n",
       "    </tr>\n",
       "    <tr>\n",
       "      <th>1</th>\n",
       "      <td>2012-01-23T17:45:28Z</td>\n",
       "      <td>034e9e3b-2def-4559-bb2a-7850888ae060</td>\n",
       "      <td>e88bc3a9-007c-405e-aabc-792a38f4aa2b</td>\n",
       "      <td>72514-3</td>\n",
       "      <td>Pain severity - 0-10 verbal numeric rating [Sc...</td>\n",
       "      <td>2.0</td>\n",
       "      <td>{score}</td>\n",
       "      <td>numeric</td>\n",
       "    </tr>\n",
       "    <tr>\n",
       "      <th>2</th>\n",
       "      <td>2012-01-23T17:45:28Z</td>\n",
       "      <td>034e9e3b-2def-4559-bb2a-7850888ae060</td>\n",
       "      <td>e88bc3a9-007c-405e-aabc-792a38f4aa2b</td>\n",
       "      <td>29463-7</td>\n",
       "      <td>Body Weight</td>\n",
       "      <td>87.8</td>\n",
       "      <td>kg</td>\n",
       "      <td>numeric</td>\n",
       "    </tr>\n",
       "    <tr>\n",
       "      <th>3</th>\n",
       "      <td>2012-01-23T17:45:28Z</td>\n",
       "      <td>034e9e3b-2def-4559-bb2a-7850888ae060</td>\n",
       "      <td>e88bc3a9-007c-405e-aabc-792a38f4aa2b</td>\n",
       "      <td>39156-5</td>\n",
       "      <td>Body Mass Index</td>\n",
       "      <td>23.5</td>\n",
       "      <td>kg/m2</td>\n",
       "      <td>numeric</td>\n",
       "    </tr>\n",
       "    <tr>\n",
       "      <th>4</th>\n",
       "      <td>2012-01-23T17:45:28Z</td>\n",
       "      <td>034e9e3b-2def-4559-bb2a-7850888ae060</td>\n",
       "      <td>e88bc3a9-007c-405e-aabc-792a38f4aa2b</td>\n",
       "      <td>8462-4</td>\n",
       "      <td>Diastolic Blood Pressure</td>\n",
       "      <td>82.0</td>\n",
       "      <td>mm[Hg]</td>\n",
       "      <td>numeric</td>\n",
       "    </tr>\n",
       "  </tbody>\n",
       "</table>\n",
       "</div>"
      ],
      "text/plain": [
       "                   DATE                               PATIENT  \\\n",
       "0  2012-01-23T17:45:28Z  034e9e3b-2def-4559-bb2a-7850888ae060   \n",
       "1  2012-01-23T17:45:28Z  034e9e3b-2def-4559-bb2a-7850888ae060   \n",
       "2  2012-01-23T17:45:28Z  034e9e3b-2def-4559-bb2a-7850888ae060   \n",
       "3  2012-01-23T17:45:28Z  034e9e3b-2def-4559-bb2a-7850888ae060   \n",
       "4  2012-01-23T17:45:28Z  034e9e3b-2def-4559-bb2a-7850888ae060   \n",
       "\n",
       "                              ENCOUNTER     CODE  \\\n",
       "0  e88bc3a9-007c-405e-aabc-792a38f4aa2b   8302-2   \n",
       "1  e88bc3a9-007c-405e-aabc-792a38f4aa2b  72514-3   \n",
       "2  e88bc3a9-007c-405e-aabc-792a38f4aa2b  29463-7   \n",
       "3  e88bc3a9-007c-405e-aabc-792a38f4aa2b  39156-5   \n",
       "4  e88bc3a9-007c-405e-aabc-792a38f4aa2b   8462-4   \n",
       "\n",
       "                                         DESCRIPTION  VALUE    UNITS     TYPE  \n",
       "0                                        Body Height  193.3       cm  numeric  \n",
       "1  Pain severity - 0-10 verbal numeric rating [Sc...    2.0  {score}  numeric  \n",
       "2                                        Body Weight   87.8       kg  numeric  \n",
       "3                                    Body Mass Index   23.5    kg/m2  numeric  \n",
       "4                           Diastolic Blood Pressure   82.0   mm[Hg]  numeric  "
      ]
     },
     "execution_count": 5,
     "metadata": {},
     "output_type": "execute_result"
    }
   ],
   "source": [
    "df = pd.read_csv(\"csv/observations.csv\")\n",
    "df.head()"
   ]
  },
  {
   "cell_type": "code",
   "execution_count": 11,
   "metadata": {},
   "outputs": [
    {
     "data": {
      "text/plain": [
       "count    1171\n",
       "mean      256\n",
       "std       501\n",
       "min        34\n",
       "25%       134\n",
       "50%       164\n",
       "75%       244\n",
       "max      9023\n",
       "Name: PATIENT, dtype: int64"
      ]
     },
     "execution_count": 11,
     "metadata": {},
     "output_type": "execute_result"
    }
   ],
   "source": [
    "df.PATIENT.value_counts().describe().round(0).astype(int)"
   ]
  },
  {
   "cell_type": "code",
   "execution_count": 57,
   "metadata": {},
   "outputs": [
    {
     "data": {
      "text/plain": [
       "array(['Tobacco smoking status NHIS', 'Never smoker', nan], dtype=object)"
      ]
     },
     "execution_count": 57,
     "metadata": {},
     "output_type": "execute_result"
    }
   ],
   "source": [
    "df[df.PATIENT==df.PATIENT.unique()[1]][[\"DESCRIPTION\", \"VALUE\", \"UNITS\"]][:30].values[24]"
   ]
  },
  {
   "cell_type": "code",
   "execution_count": 76,
   "metadata": {},
   "outputs": [],
   "source": [
    "observations = \", \".join([\" \".join(el) for el in df[df.PATIENT==df.PATIENT.unique()[1]][[\"DESCRIPTION\", \"VALUE\", \"UNITS\"]][:30].values[:24]])"
   ]
  },
  {
   "cell_type": "code",
   "execution_count": 81,
   "metadata": {},
   "outputs": [],
   "source": [
    "CLARIFAI_PAT=\"\" # Place your Clarifai Personal Access Token here"
   ]
  },
  {
   "cell_type": "code",
   "execution_count": 82,
   "metadata": {},
   "outputs": [],
   "source": [
    "import os\n",
    "import streamlit as st\n",
    "from langchain.llms import Clarifai\n",
    "from langchain import PromptTemplate, LLMChain\n",
    "\n",
    "# https://python.langchain.com/docs/integrations/llms/clarifai\n",
    "clarifai_llm = Clarifai(\n",
    "    pat=CLARIFAI_PAT, user_id='openai', app_id='chat-completion', model_id='GPT-3_5-turbo'\n",
    ")\n",
    "\n",
    "template = \"\"\"A patient has the following list of measurements: {observations}\n",
    "\n",
    "The following measurements are out of normal range: \"\"\"\n",
    "\n",
    "prompt = PromptTemplate(template=template, input_variables=[\"observations\"])"
   ]
  },
  {
   "cell_type": "code",
   "execution_count": 83,
   "metadata": {},
   "outputs": [],
   "source": [
    "# Create LLM chain\n",
    "llm_chain = LLMChain(prompt=prompt, llm=clarifai_llm)"
   ]
  },
  {
   "cell_type": "code",
   "execution_count": 84,
   "metadata": {},
   "outputs": [],
   "source": [
    "result = llm_chain.run(observations)"
   ]
  },
  {
   "cell_type": "code",
   "execution_count": 85,
   "metadata": {},
   "outputs": [
    {
     "name": "stdout",
     "output_type": "stream",
     "text": [
      "- Body Mass Index: 29.3 kg/m2 (overweight)\n",
      "- Diastolic Blood Pressure: 87.0 mm[Hg] (elevated)\n",
      "- Total Cholesterol: 174.1 mg/dL (borderline high)\n",
      "- Low Density Lipoprotein Cholesterol: 86.9 mg/dL (borderline high)\n",
      "- Erythrocyte distribution width: 45.7 fL (high)\n",
      "- Platelet distribution width: 440.7 fL (high)\n"
     ]
    }
   ],
   "source": [
    "print(result)"
   ]
  }
 ],
 "metadata": {
  "kernelspec": {
   "display_name": "Python 3",
   "language": "python",
   "name": "python3"
  },
  "language_info": {
   "codemirror_mode": {
    "name": "ipython",
    "version": 3
   },
   "file_extension": ".py",
   "mimetype": "text/x-python",
   "name": "python",
   "nbconvert_exporter": "python",
   "pygments_lexer": "ipython3",
   "version": "3.10.12"
  },
  "orig_nbformat": 4
 },
 "nbformat": 4,
 "nbformat_minor": 2
}
